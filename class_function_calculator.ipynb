{
 "cells": [
  {
   "cell_type": "code",
   "execution_count": 1,
   "id": "fd947007",
   "metadata": {},
   "outputs": [
    {
     "name": "stdout",
     "output_type": "stream",
     "text": [
      "Main Menu....\n",
      " 1 : Addition operation......\n",
      " 2 : Substraction operation......\n",
      " 3 : Multiplication operation.......\n",
      " 4 : Division operation.......\n",
      " 5 : Sqaure operation......\n",
      "Please enter your operation number:- 1\n",
      "Please enter your first number:- 10\n",
      "Please enter your second number:- 10\n",
      "Performing the addition operation------ \n",
      "so result is:--  20\n",
      "You Got your answer yaaaaaa..........\n"
     ]
    }
   ],
   "source": [
    "#Class Method of all function calculator.\n",
    "class Add:\n",
    "    def My_Addition(self,a,b):\n",
    "        print('Performing the addition operation------ ')\n",
    "        return (a+b)\n",
    "class Substract():\n",
    "    def My_Substraction(self,a,b):\n",
    "        print('Performing the addition operation------ ')\n",
    "        return (a-b)\n",
    "class Multiplication():\n",
    "    def My_Multiplication(self,a,b):\n",
    "        print('Performing the addition operation------ ')\n",
    "        return (a*b)\n",
    "class Division():\n",
    "    def My_Division(self,a,b):\n",
    "        print('Performing the addition operation------ ')\n",
    "        return (a/b)\n",
    "class Square():\n",
    "    def My_Square(self,a):\n",
    "        print('Performing the addition operation------')\n",
    "        return (a**2)\n",
    "class Menu():\n",
    "    def MyMenu(self):\n",
    "        print('Main Menu....')\n",
    "        print(' 1 : Addition operation......')\n",
    "        print(' 2 : Substraction operation......')\n",
    "        print(' 3 : Multiplication operation.......')\n",
    "        print(' 4 : Division operation.......')\n",
    "        print(' 5 : Sqaure operation......')\n",
    "        choice =int(input('Please enter your operation number:- '))\n",
    "        return choice\n",
    "\n",
    "class Finalans(Add,Substract,Multiplication,Division,Square,Menu):\n",
    "    def Calculation(self):\n",
    "        ch = self.MyMenu()\n",
    "        My_Addition=self.My_Addition\n",
    "        My_Substraction=self.My_Substraction\n",
    "        My_Multiplication=self.My_Multiplication\n",
    "        My_Division=self.My_Division\n",
    "        My_Square=self.My_Square\n",
    "        num1 = int(input(\"Please enter your first number:- \"))\n",
    "        num2 = int(input(\"Please enter your second number:- \"))\n",
    "\n",
    "        if ch == 1:\n",
    "            result = My_Addition(num1,num2)\n",
    "        elif ch == 2:\n",
    "            result = My_Substraction(num1,num2)\n",
    "        elif ch == 3:\n",
    "            result = My_Multiplication(num1,num2)\n",
    "        elif ch == 4:\n",
    "            result = My_Division(num1,num2)\n",
    "        elif ch == 5:\n",
    "            result = My_Square(num1)\n",
    "        print('so result is:-- ',result)\n",
    "        print('You Got your answer yaaaaaa..........')\n",
    "        \n",
    "        \n",
    "obj1=Finalans()\n",
    "\n",
    "obj1.Calculation()\n",
    "\n"
   ]
  },
  {
   "cell_type": "code",
   "execution_count": null,
   "id": "35efb717",
   "metadata": {},
   "outputs": [],
   "source": []
  }
 ],
 "metadata": {
  "kernelspec": {
   "display_name": "Python 3",
   "language": "python",
   "name": "python3"
  },
  "language_info": {
   "codemirror_mode": {
    "name": "ipython",
    "version": 3
   },
   "file_extension": ".py",
   "mimetype": "text/x-python",
   "name": "python",
   "nbconvert_exporter": "python",
   "pygments_lexer": "ipython3",
   "version": "3.8.8"
  }
 },
 "nbformat": 4,
 "nbformat_minor": 5
}
