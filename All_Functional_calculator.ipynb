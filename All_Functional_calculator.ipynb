{
 "cells": [
  {
   "cell_type": "code",
   "execution_count": 18,
   "id": "1fc35387",
   "metadata": {},
   "outputs": [
    {
     "name": "stdout",
     "output_type": "stream",
     "text": [
      "Main Menu....\n",
      " 1 : Addition operation......\n",
      " 2 : Substraction operation......\n",
      " 3 : Multiplication operation.......\n",
      " 4 : Division operation.......\n",
      " 5 : Sqaure operation......\n",
      "Please enter your operation number:- 5\n",
      "Please enter your first number:- 2\n",
      "Please enter your second number:- 2\n",
      "Performing the addition operation------\n",
      "so result is:--  4\n",
      "You Got your answer yaaaaaa..........\n"
     ]
    }
   ],
   "source": [
    "#All Functional calculator.\n",
    "def My_Addition(a,b):\n",
    "    print('Performing the addition operation------ ')\n",
    "    return (a+b)\n",
    "def My_Substraction(a,b):\n",
    "    print('Performing the addition operation------ ')\n",
    "    return (a-b)\n",
    "def My_Multiplication(a,b):\n",
    "    print('Performing the addition operation------ ')\n",
    "    return (a*b)\n",
    "def My_Division(a,b):\n",
    "    print('Performing the addition operation------ ')\n",
    "    return (a/b)\n",
    "def My_Square(a):\n",
    "    print('Performing the addition operation------')\n",
    "    return (a**2)\n",
    "\n",
    "def MyMenu():\n",
    "    print('Main Menu....')\n",
    "    print(' 1 : Addition operation......')\n",
    "    print(' 2 : Substraction operation......')\n",
    "    print(' 3 : Multiplication operation.......')\n",
    "    print(' 4 : Division operation.......')\n",
    "    print(' 5 : Sqaure operation......')\n",
    "    choice =int(input('Please enter your operation number:- '))\n",
    "    return choice\n",
    "\n",
    "def Calculation():\n",
    "    ch = MyMenu()\n",
    "    num1 = int(input(\"Please enter your first number:- \"))\n",
    "    num2 = int(input(\"Please enter your second number:- \"))\n",
    "    \n",
    "    if ch == 1:\n",
    "        result = My_Addition(num1,num2)\n",
    "    elif ch == 2:\n",
    "        result = My_Substraction(num1,num2)\n",
    "    elif ch == 3:\n",
    "        result = My_Multiplication(num1,num2)\n",
    "    elif ch == 4:\n",
    "        result = My_Division(num1,num2)\n",
    "    elif ch == 5:\n",
    "        result = My_Square(num1)\n",
    "    print('so result is:-- ',result)\n",
    "    print('You Got your answer yaaaaaa..........')\n",
    "\n",
    "\n",
    "Calculation()\n",
    "    \n",
    "    "
   ]
  },
  {
   "cell_type": "code",
   "execution_count": null,
   "id": "6d4a9414",
   "metadata": {},
   "outputs": [],
   "source": []
  }
 ],
 "metadata": {
  "kernelspec": {
   "display_name": "Python 3",
   "language": "python",
   "name": "python3"
  },
  "language_info": {
   "codemirror_mode": {
    "name": "ipython",
    "version": 3
   },
   "file_extension": ".py",
   "mimetype": "text/x-python",
   "name": "python",
   "nbconvert_exporter": "python",
   "pygments_lexer": "ipython3",
   "version": "3.8.8"
  }
 },
 "nbformat": 4,
 "nbformat_minor": 5
}
